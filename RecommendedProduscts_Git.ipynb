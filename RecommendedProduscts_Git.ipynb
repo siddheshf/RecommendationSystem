{
 "cells": [
  {
   "cell_type": "code",
   "execution_count": 1,
   "id": "70e11d22",
   "metadata": {},
   "outputs": [],
   "source": [
    "import pyspark\n",
    "import numpy as np\n",
    "from pyspark.sql.functions import isnan, when, count, col\n",
    "from pyspark.sql import SparkSession\n",
    "spark = SparkSession.builder.getOrCreate()"
   ]
  },
  {
   "cell_type": "code",
   "execution_count": 2,
   "id": "38a4c459",
   "metadata": {},
   "outputs": [],
   "source": [
    "df1 = spark.read.csv('F:\\\\Siddhesh\\\\Study\\\\datasets\\\\2019-Nov_RecommendationSystem.csv', header=True, inferSchema= True)"
   ]
  },
  {
   "cell_type": "code",
   "execution_count": 3,
   "id": "81599fff",
   "metadata": {},
   "outputs": [
    {
     "name": "stdout",
     "output_type": "stream",
     "text": [
      "+--------------------+----------+----------+-----------+--------------------+--------+------+---------+--------------------+------+\n",
      "|          event_time|event_type|product_id|category_id|       category_code|   brand| price|  user_id|        user_session|Rating|\n",
      "+--------------------+----------+----------+-----------+--------------------+--------+------+---------+--------------------+------+\n",
      "|2019-11-01 00:00:...|      view|   1003461| 2.05301E18|electronics.smart...|  xiaomi|489.07|520088904|4d3b30da-a5e4-49d...|     5|\n",
      "|2019-11-01 00:00:...|      view|   5000088| 2.05301E18|appliances.sewing...|  janome|293.65|530496790|8e5f4f83-366c-4f7...|     3|\n",
      "|2019-11-01 00:00:...|      view|  17302664| 2.05301E18|                null|   creed| 28.31|561587266|755422e7-9040-477...|     5|\n",
      "|2019-11-01 00:00:...|      view|   3601530| 2.05301E18|appliances.kitche...|      lg|712.87|518085591|3bfb58cd-7892-48c...|     4|\n",
      "|2019-11-01 00:00:...|      view|   1004775| 2.05301E18|electronics.smart...|  xiaomi|183.27|558856683|313628f1-68b8-460...|     1|\n",
      "|2019-11-01 00:00:...|      view|   1306894| 2.05301E18|  computers.notebook|      hp|360.09|520772685|816a59f3-f5ae-4cc...|     5|\n",
      "|2019-11-01 00:00:...|      view|   1306421| 2.05301E18|  computers.notebook|      hp|514.56|514028527|df8184cc-3694-454...|     5|\n",
      "|2019-11-01 00:00:...|      view|  15900065| 2.05301E18|                null| rondell| 30.86|518574284|5e6ef132-4d7c-473...|     5|\n",
      "|2019-11-01 00:00:...|      view|  12708937| 2.05301E18|                null|michelin| 72.72|532364121|0a899268-31eb-46d...|     5|\n",
      "|2019-11-01 00:00:...|      view|   1004258| 2.05301E18|electronics.smart...|   apple|732.07|532647354|d2d3d2c6-631d-489...|     4|\n",
      "|2019-11-01 00:00:...|      view|  17200570| 2.05301E18|furniture.living_...|    null|437.33|518780843|aa806835-b14c-45a...|     5|\n",
      "|2019-11-01 00:00:...|      view|   2701517| 2.05301E18|appliances.kitche...|    null|155.11|518427361|c89b0d96-247f-404...|     4|\n",
      "|2019-11-01 00:00:...|      view|  16700260| 2.05301E18|furniture.kitchen...|    null| 31.64|566255262|173d7b72-1db7-463...|     5|\n",
      "|2019-11-01 00:00:...|      view|  34600011| 2.06098E18|                null|    null| 20.54|512416379|4dfe2c67-e537-4dc...|     5|\n",
      "|2019-11-01 00:00:...|      view|   4600658| 2.05301E18|appliances.kitche...| samsung|411.83|526595547|aab33a9a-29c3-4d5...|     5|\n",
      "|2019-11-01 00:00:...|      view|  24900193| 2.05301E18|                null|    null|  1.09|512651494|f603c815-f51a-46f...|     5|\n",
      "|2019-11-01 00:00:...|      view|  27400066| 2.05301E18|                null|    null|  8.55|551061950|3f6112f1-5695-4e8...|     5|\n",
      "|2019-11-01 00:00:...|      view|   5100503| 2.05301E18|                null|  xiaomi| 22.68|520037415|f54fa96a-f3f2-43a...|     5|\n",
      "|2019-11-01 00:00:...|      view|   1004566| 2.05301E18|electronics.smart...|  huawei|164.84|566265908|52c2c76c-b79e-479...|     5|\n",
      "|2019-11-01 00:00:...|      view|   1307115| 2.05301E18|  computers.notebook|      hp|411.59|514028527|df8184cc-3694-454...|     5|\n",
      "+--------------------+----------+----------+-----------+--------------------+--------+------+---------+--------------------+------+\n",
      "only showing top 20 rows\n",
      "\n"
     ]
    }
   ],
   "source": [
    "df1.show()"
   ]
  },
  {
   "cell_type": "code",
   "execution_count": 4,
   "id": "402f2972",
   "metadata": {},
   "outputs": [
    {
     "name": "stdout",
     "output_type": "stream",
     "text": [
      "+----------+----------+----------+-----------+-------------+------+-----+-------+------------+------+\n",
      "|event_time|event_type|product_id|category_id|category_code| brand|price|user_id|user_session|Rating|\n",
      "+----------+----------+----------+-----------+-------------+------+-----+-------+------------+------+\n",
      "|         0|         0|         0|          0|       332077|154155|    0|      0|           0|     0|\n",
      "+----------+----------+----------+-----------+-------------+------+-----+-------+------------+------+\n",
      "\n"
     ]
    }
   ],
   "source": [
    "#To get null values in the dataframe\n",
    "df1.select([count(when(col(c).isNull(), c)).alias(c) for c in df1.columns]).show()"
   ]
  },
  {
   "cell_type": "code",
   "execution_count": 5,
   "id": "b5c1e68e",
   "metadata": {},
   "outputs": [],
   "source": [
    "df1 = df1['user_id','product_id','Rating']"
   ]
  },
  {
   "cell_type": "code",
   "execution_count": 6,
   "id": "54afeb88",
   "metadata": {},
   "outputs": [
    {
     "name": "stdout",
     "output_type": "stream",
     "text": [
      "+---------+----------+------+\n",
      "|  user_id|product_id|Rating|\n",
      "+---------+----------+------+\n",
      "|520088904|   1003461|     5|\n",
      "|530496790|   5000088|     3|\n",
      "|561587266|  17302664|     5|\n",
      "|518085591|   3601530|     4|\n",
      "|558856683|   1004775|     1|\n",
      "|520772685|   1306894|     5|\n",
      "|514028527|   1306421|     5|\n",
      "|518574284|  15900065|     5|\n",
      "|532364121|  12708937|     5|\n",
      "|532647354|   1004258|     4|\n",
      "|518780843|  17200570|     5|\n",
      "|518427361|   2701517|     4|\n",
      "|566255262|  16700260|     5|\n",
      "|512416379|  34600011|     5|\n",
      "|526595547|   4600658|     5|\n",
      "|512651494|  24900193|     5|\n",
      "|551061950|  27400066|     5|\n",
      "|520037415|   5100503|     5|\n",
      "|566265908|   1004566|     5|\n",
      "|514028527|   1307115|     5|\n",
      "+---------+----------+------+\n",
      "only showing top 20 rows\n",
      "\n"
     ]
    }
   ],
   "source": [
    "df1.show()"
   ]
  },
  {
   "cell_type": "code",
   "execution_count": 7,
   "id": "0ab1e15f",
   "metadata": {},
   "outputs": [
    {
     "data": {
      "text/plain": [
       "1048575"
      ]
     },
     "execution_count": 7,
     "metadata": {},
     "output_type": "execute_result"
    }
   ],
   "source": [
    "df1.count()"
   ]
  },
  {
   "cell_type": "code",
   "execution_count": 8,
   "id": "33e80517",
   "metadata": {},
   "outputs": [
    {
     "name": "stdout",
     "output_type": "stream",
     "text": [
      "+---------+-----+\n",
      "|  user_id|count|\n",
      "+---------+-----+\n",
      "|539585530|  526|\n",
      "|537972582|  504|\n",
      "|559249905|  311|\n",
      "|529413254|  294|\n",
      "|531537488|  246|\n",
      "|518449281|  211|\n",
      "|556444587|  197|\n",
      "|561609717|  192|\n",
      "|563525937|  192|\n",
      "|512792872|  191|\n",
      "|514127132|  187|\n",
      "|512475445|  183|\n",
      "|514547286|  180|\n",
      "|515789329|  179|\n",
      "|563459593|  178|\n",
      "|513998518|  168|\n",
      "|512365995|  167|\n",
      "|532599748|  167|\n",
      "|512542757|  162|\n",
      "|541036379|  161|\n",
      "+---------+-----+\n",
      "only showing top 20 rows\n",
      "\n"
     ]
    }
   ],
   "source": [
    "df1.groupBy('user_id').count().sort('count',ascending=False).show()"
   ]
  },
  {
   "cell_type": "code",
   "execution_count": 9,
   "id": "f9cf97f7",
   "metadata": {},
   "outputs": [
    {
     "data": {
      "text/plain": [
       "817421"
      ]
     },
     "execution_count": 9,
     "metadata": {},
     "output_type": "execute_result"
    }
   ],
   "source": [
    "df1.distinct().count()"
   ]
  },
  {
   "cell_type": "code",
   "execution_count": 10,
   "id": "c549013d",
   "metadata": {},
   "outputs": [
    {
     "name": "stdout",
     "output_type": "stream",
     "text": [
      "+-------+----------+------+\n",
      "|user_id|product_id|Rating|\n",
      "+-------+----------+------+\n",
      "|      0|         0|     0|\n",
      "+-------+----------+------+\n",
      "\n"
     ]
    }
   ],
   "source": [
    "#To get null values in the dataframe\n",
    "df1.select([count(when(col(c).isNull(), c)).alias(c) for c in df1.columns]).show()"
   ]
  },
  {
   "cell_type": "code",
   "execution_count": 11,
   "id": "9a344e3f",
   "metadata": {},
   "outputs": [
    {
     "name": "stdout",
     "output_type": "stream",
     "text": [
      "+-------+----------+------+\n",
      "|user_id|product_id|Rating|\n",
      "+-------+----------+------+\n",
      "|      0|         0|     0|\n",
      "+-------+----------+------+\n",
      "\n"
     ]
    }
   ],
   "source": [
    "#To get nan values in the dataframe\n",
    "df1.select([count(when(isnan(c), c)).alias(c) for c in df1.columns]).show()"
   ]
  },
  {
   "cell_type": "code",
   "execution_count": 12,
   "id": "3d9e71fe",
   "metadata": {},
   "outputs": [],
   "source": [
    "from pyspark.ml.recommendation import ALS\n",
    "from pyspark.ml.evaluation import RegressionEvaluator"
   ]
  },
  {
   "cell_type": "code",
   "execution_count": 13,
   "id": "6df90491",
   "metadata": {},
   "outputs": [
    {
     "name": "stdout",
     "output_type": "stream",
     "text": [
      "+-------+--------------------+--------------------+------------------+\n",
      "|summary|             user_id|          product_id|            Rating|\n",
      "+-------+--------------------+--------------------+------------------+\n",
      "|  count|             1048575|             1048575|           1048575|\n",
      "|   mean| 5.352223267584131E8|1.0623232003500942E7| 4.176863839019622|\n",
      "| stddev|2.0151963447148193E7|1.2022362511917762E7|1.3065428668686472|\n",
      "|    min|           274969076|             1000978|                 1|\n",
      "|    max|           566513909|            61700012|                 5|\n",
      "+-------+--------------------+--------------------+------------------+\n",
      "\n"
     ]
    }
   ],
   "source": [
    "df1.describe().show()"
   ]
  },
  {
   "cell_type": "code",
   "execution_count": 14,
   "id": "c083982f",
   "metadata": {},
   "outputs": [],
   "source": [
    "(train,test) = df1.randomSplit([0.75,0.25])"
   ]
  },
  {
   "cell_type": "code",
   "execution_count": 15,
   "id": "46d82f13",
   "metadata": {},
   "outputs": [
    {
     "data": {
      "text/plain": [
       "787094"
      ]
     },
     "execution_count": 15,
     "metadata": {},
     "output_type": "execute_result"
    }
   ],
   "source": [
    "train.count()"
   ]
  },
  {
   "cell_type": "code",
   "execution_count": 16,
   "id": "0a8bb060",
   "metadata": {},
   "outputs": [
    {
     "data": {
      "text/plain": [
       "261481"
      ]
     },
     "execution_count": 16,
     "metadata": {},
     "output_type": "execute_result"
    }
   ],
   "source": [
    "test.count()"
   ]
  },
  {
   "cell_type": "code",
   "execution_count": 17,
   "id": "a18325d8",
   "metadata": {},
   "outputs": [],
   "source": [
    "als = ALS(maxIter=5, regParam=0.1, userCol='user_id', itemCol='product_id', ratingCol='Rating', coldStartStrategy=\"drop\")"
   ]
  },
  {
   "cell_type": "code",
   "execution_count": 18,
   "id": "82b5e91c",
   "metadata": {},
   "outputs": [],
   "source": [
    "model = als.fit(train)"
   ]
  },
  {
   "cell_type": "code",
   "execution_count": 19,
   "id": "d324ebf3",
   "metadata": {},
   "outputs": [],
   "source": [
    "pred = model.transform(test)"
   ]
  },
  {
   "cell_type": "code",
   "execution_count": 20,
   "id": "de3e65b2",
   "metadata": {
    "scrolled": true
   },
   "outputs": [
    {
     "name": "stdout",
     "output_type": "stream",
     "text": [
      "+---------+----------+------+----------+\n",
      "|  user_id|product_id|Rating|prediction|\n",
      "+---------+----------+------+----------+\n",
      "|520434341|   1004666|     5| 4.8343425|\n",
      "|551819695|   1004666|     5| 4.2666826|\n",
      "|561963609|   1004666|     5| 4.1188827|\n",
      "|566454610|   1004666|     5| 4.2077327|\n",
      "|513068374|   1004666|     5|  3.469921|\n",
      "|514438996|   1004666|     5|0.79235125|\n",
      "|548161220|   1004666|     5|  4.102651|\n",
      "|566135570|   1004666|     5| 1.9728268|\n",
      "|566339517|   1004666|     5|  4.932067|\n",
      "|517528820|   1004666|     3|  4.500553|\n",
      "|566433168|   1004666|     5| 4.4898186|\n",
      "|566417483|   1004666|     5|  5.389082|\n",
      "|520842644|   1004666|     4|  1.604131|\n",
      "|519570510|   1004666|     5|  1.454879|\n",
      "|446661951|   1004739|     5| 2.8697844|\n",
      "|536492686|   1004739|     4| 4.0655284|\n",
      "|560041200|   1004739|     5|   4.46072|\n",
      "|550104671|   1004739|     5|  2.941399|\n",
      "|550104671|   1004739|     5|  2.941399|\n",
      "|551991737|   1004739|     4|  4.760072|\n",
      "+---------+----------+------+----------+\n",
      "only showing top 20 rows\n",
      "\n"
     ]
    }
   ],
   "source": [
    "pred.show()"
   ]
  },
  {
   "cell_type": "code",
   "execution_count": 21,
   "id": "83f37279",
   "metadata": {},
   "outputs": [],
   "source": [
    "evaluation_result = RegressionEvaluator(metricName='rmse', labelCol='Rating', predictionCol='prediction')"
   ]
  },
  {
   "cell_type": "code",
   "execution_count": 22,
   "id": "859b5baa",
   "metadata": {},
   "outputs": [],
   "source": [
    "rmse = evaluation_result.evaluate(pred)"
   ]
  },
  {
   "cell_type": "code",
   "execution_count": 23,
   "id": "23a29639",
   "metadata": {},
   "outputs": [
    {
     "name": "stdout",
     "output_type": "stream",
     "text": [
      "rmse: 2.37291037713526\n"
     ]
    }
   ],
   "source": [
    "print(f\"rmse: {rmse}\")"
   ]
  },
  {
   "cell_type": "code",
   "execution_count": 24,
   "id": "93d5c5de",
   "metadata": {},
   "outputs": [],
   "source": [
    "user_1 = test.filter(test['user_id'] == 537972582).select('product_id','user_id')"
   ]
  },
  {
   "cell_type": "code",
   "execution_count": 25,
   "id": "42564f47",
   "metadata": {},
   "outputs": [
    {
     "data": {
      "text/plain": [
       "118"
      ]
     },
     "execution_count": 25,
     "metadata": {},
     "output_type": "execute_result"
    }
   ],
   "source": [
    "user_1.count()"
   ]
  },
  {
   "cell_type": "code",
   "execution_count": 26,
   "id": "ff14e612",
   "metadata": {},
   "outputs": [
    {
     "name": "stdout",
     "output_type": "stream",
     "text": [
      "+----------+---------+\n",
      "|product_id|  user_id|\n",
      "+----------+---------+\n",
      "|  26400185|537972582|\n",
      "|  26400203|537972582|\n",
      "|  26400250|537972582|\n",
      "|  26400289|537972582|\n",
      "|  26400291|537972582|\n",
      "|  26400297|537972582|\n",
      "|  26400380|537972582|\n",
      "|  26400490|537972582|\n",
      "|  26400493|537972582|\n",
      "|  26400513|537972582|\n",
      "|  26400527|537972582|\n",
      "|  26401115|537972582|\n",
      "|  26401427|537972582|\n",
      "|  26401458|537972582|\n",
      "|  26402185|537972582|\n",
      "|  26402809|537972582|\n",
      "|  26403511|537972582|\n",
      "|  26400172|537972582|\n",
      "|  26400175|537972582|\n",
      "|  26400184|537972582|\n",
      "+----------+---------+\n",
      "only showing top 20 rows\n",
      "\n"
     ]
    }
   ],
   "source": [
    "user_1.show()"
   ]
  },
  {
   "cell_type": "code",
   "execution_count": 27,
   "id": "02ec2ad7",
   "metadata": {},
   "outputs": [],
   "source": [
    "rec = model.transform(user_1)"
   ]
  },
  {
   "cell_type": "code",
   "execution_count": 28,
   "id": "8304a520",
   "metadata": {},
   "outputs": [],
   "source": [
    "final_rec = rec.orderBy(\"prediction\", ascending= False)"
   ]
  },
  {
   "cell_type": "code",
   "execution_count": 29,
   "id": "2c40ea09",
   "metadata": {
    "scrolled": true
   },
   "outputs": [
    {
     "name": "stdout",
     "output_type": "stream",
     "text": [
      "+----------+---------+----------+\n",
      "|product_id|  user_id|prediction|\n",
      "+----------+---------+----------+\n",
      "|  26400297|537972582|  6.641469|\n",
      "|  26203851|537972582| 6.0316143|\n",
      "|  26402618|537972582| 5.5559673|\n",
      "|  26402618|537972582| 5.5559673|\n",
      "|  26403511|537972582|  5.370862|\n",
      "|  26403511|537972582|  5.370862|\n",
      "|  26401115|537972582|  5.359983|\n",
      "|  26401115|537972582|  5.359983|\n",
      "|  26401633|537972582| 5.3532877|\n",
      "|  26402579|537972582| 5.3313856|\n",
      "|  26200615|537972582| 5.2660775|\n",
      "|  26400674|537972582| 5.2569637|\n",
      "|  26404196|537972582|  5.184058|\n",
      "|  26204790|537972582|  5.183878|\n",
      "|  26402809|537972582|  5.170182|\n",
      "|  26400490|537972582| 4.9492617|\n",
      "|  26403506|537972582| 4.8833466|\n",
      "|  26400657|537972582|  4.876865|\n",
      "|  26400237|537972582|  4.824741|\n",
      "|  26402938|537972582|  4.771587|\n",
      "+----------+---------+----------+\n",
      "only showing top 20 rows\n",
      "\n"
     ]
    }
   ],
   "source": [
    "final_rec.show()"
   ]
  }
 ],
 "metadata": {
  "kernelspec": {
   "display_name": "Python 3 (ipykernel)",
   "language": "python",
   "name": "python3"
  },
  "language_info": {
   "codemirror_mode": {
    "name": "ipython",
    "version": 3
   },
   "file_extension": ".py",
   "mimetype": "text/x-python",
   "name": "python",
   "nbconvert_exporter": "python",
   "pygments_lexer": "ipython3",
   "version": "3.8.5"
  }
 },
 "nbformat": 4,
 "nbformat_minor": 5
}
